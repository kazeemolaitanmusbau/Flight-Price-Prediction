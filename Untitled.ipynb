{
 "cells": [
  {
   "cell_type": "markdown",
   "id": "d9bce1d9",
   "metadata": {},
   "source": [
    "# Project Title: Flight Price Prediction"
   ]
  },
  {
   "cell_type": "markdown",
   "id": "b4768a9b",
   "metadata": {},
   "source": [
    "# Project Content\n",
    "\n",
    "- Defining the Project-Problem  Statement\n",
    "- Collection and Importation of dataset\n",
    "- Data Exploration\n",
    "- Feature Engineering \n",
    "- feature Selection\n",
    "- Modeling building\n",
    "- modeling testing"
   ]
  },
  {
   "cell_type": "markdown",
   "id": "3ac676c6",
   "metadata": {},
   "source": [
    "#  1.0 Defining the Project-Problem  Statement\n",
    "\n",
    "The Airline dataset contain the information of Airpline Companies, such as Name of the Airline, Price for flights, date of journey, destination of passengers, source of passengers and so on. We are to draw insight from this dataset, and through that, we will build a Machine Learning model that can predict the Price of a  flight using  Machine Learing  algorithm\n"
   ]
  },
  {
   "cell_type": "code",
   "execution_count": null,
   "id": "347a0144",
   "metadata": {},
   "outputs": [],
   "source": []
  },
  {
   "cell_type": "code",
   "execution_count": null,
   "id": "54857b4a",
   "metadata": {},
   "outputs": [],
   "source": []
  },
  {
   "cell_type": "code",
   "execution_count": null,
   "id": "99859275",
   "metadata": {},
   "outputs": [],
   "source": []
  },
  {
   "cell_type": "code",
   "execution_count": null,
   "id": "47f8f927",
   "metadata": {},
   "outputs": [],
   "source": []
  },
  {
   "cell_type": "code",
   "execution_count": null,
   "id": "4a1dc831",
   "metadata": {},
   "outputs": [],
   "source": []
  },
  {
   "cell_type": "code",
   "execution_count": null,
   "id": "137d432e",
   "metadata": {},
   "outputs": [],
   "source": []
  },
  {
   "cell_type": "code",
   "execution_count": null,
   "id": "953b8ee0",
   "metadata": {},
   "outputs": [],
   "source": []
  },
  {
   "cell_type": "code",
   "execution_count": null,
   "id": "32f2673e",
   "metadata": {},
   "outputs": [],
   "source": []
  },
  {
   "cell_type": "code",
   "execution_count": null,
   "id": "592058fb",
   "metadata": {},
   "outputs": [],
   "source": []
  }
 ],
 "metadata": {
  "kernelspec": {
   "display_name": "Python 3 (ipykernel)",
   "language": "python",
   "name": "python3"
  },
  "language_info": {
   "codemirror_mode": {
    "name": "ipython",
    "version": 3
   },
   "file_extension": ".py",
   "mimetype": "text/x-python",
   "name": "python",
   "nbconvert_exporter": "python",
   "pygments_lexer": "ipython3",
   "version": "3.9.13"
  }
 },
 "nbformat": 4,
 "nbformat_minor": 5
}
