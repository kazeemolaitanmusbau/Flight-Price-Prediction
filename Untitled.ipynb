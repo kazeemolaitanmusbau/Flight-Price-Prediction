{
 "cells": [
  {
   "cell_type": "markdown",
   "id": "8bf7fc69",
   "metadata": {},
   "source": [
    "# Project Title: Flight Price Prediction"
   ]
  },
  {
   "cell_type": "markdown",
   "id": "7c5f3e1d",
   "metadata": {},
   "source": [
    "# Project Content\n",
    "\n",
    "- Defining the Project-Problem  Statement\n",
    "- Collection and Importation of dataset\n",
    "- Data Exploration\n",
    "- Feature Engineering \n",
    "- feature Selection\n",
    "- Modeling building\n",
    "- modeling testing"
   ]
  },
  {
   "cell_type": "markdown",
   "id": "6c423f63",
   "metadata": {},
   "source": [
    "#  1.0 Defining the Project-Problem  Statement\n",
    "\n",
    "The Airpline dataset contain the information of Airpline Companies, suc.we are to draw insight from the dataset, and through that, we will build a Machine Learning model that can predict the Price of a  flight using  Machine Learing  algorithm\n"
   ]
  },
  {
   "cell_type": "code",
   "execution_count": null,
   "id": "acabbb41",
   "metadata": {},
   "outputs": [],
   "source": []
  },
  {
   "cell_type": "code",
   "execution_count": null,
   "id": "a8b71c46",
   "metadata": {},
   "outputs": [],
   "source": []
  },
  {
   "cell_type": "code",
   "execution_count": null,
   "id": "7b48e5d0",
   "metadata": {},
   "outputs": [],
   "source": []
  },
  {
   "cell_type": "code",
   "execution_count": null,
   "id": "89cb71ed",
   "metadata": {},
   "outputs": [],
   "source": []
  },
  {
   "cell_type": "code",
   "execution_count": null,
   "id": "c4862054",
   "metadata": {},
   "outputs": [],
   "source": []
  },
  {
   "cell_type": "code",
   "execution_count": null,
   "id": "83e96daf",
   "metadata": {},
   "outputs": [],
   "source": []
  },
  {
   "cell_type": "code",
   "execution_count": null,
   "id": "93628c1f",
   "metadata": {},
   "outputs": [],
   "source": []
  },
  {
   "cell_type": "code",
   "execution_count": null,
   "id": "ec467044",
   "metadata": {},
   "outputs": [],
   "source": []
  },
  {
   "cell_type": "code",
   "execution_count": null,
   "id": "da22f84b",
   "metadata": {},
   "outputs": [],
   "source": []
  }
 ],
 "metadata": {
  "kernelspec": {
   "display_name": "Python 3 (ipykernel)",
   "language": "python",
   "name": "python3"
  },
  "language_info": {
   "codemirror_mode": {
    "name": "ipython",
    "version": 3
   },
   "file_extension": ".py",
   "mimetype": "text/x-python",
   "name": "python",
   "nbconvert_exporter": "python",
   "pygments_lexer": "ipython3",
   "version": "3.9.13"
  }
 },
 "nbformat": 4,
 "nbformat_minor": 5
}
